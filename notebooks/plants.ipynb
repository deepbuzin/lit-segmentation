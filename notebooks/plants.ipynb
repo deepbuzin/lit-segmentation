{
 "cells": [
  {
   "cell_type": "markdown",
   "source": [
    "### Setup\n",
    "\n",
    "Load the data and import the necessary libraries"
   ],
   "metadata": {
    "collapsed": false
   }
  },
  {
   "cell_type": "code",
   "execution_count": null,
   "metadata": {
    "collapsed": true
   },
   "outputs": [],
   "source": [
    "!unzip \"leaf_disease\" -d \"data/leaf_disease\""
   ]
  },
  {
   "cell_type": "code",
   "execution_count": null,
   "outputs": [],
   "source": [
    "from functools import partial\n",
    "\n",
    "from pytorch_lightning import Trainer\n",
    "from pytorch_lightning.callbacks import EarlyStopping, LearningRateMonitor\n",
    "from timm.optim import AdaBelief\n",
    "from timm.scheduler import CosineLRScheduler\n",
    "\n",
    "from segmentator.leaf_disease_dataset import LeafDiseaseDataModule\n",
    "from segmentator.model import PcsModel\n",
    "from segmentator.models.unet import get_unet"
   ],
   "metadata": {
    "collapsed": false
   }
  },
  {
   "cell_type": "markdown",
   "source": [
    "### Datamodule\n",
    "\n",
    "Lightning's preferred way of handling the data is via the abstraction called 'datamodule'."
   ],
   "metadata": {
    "collapsed": false
   }
  },
  {
   "cell_type": "code",
   "execution_count": null,
   "outputs": [],
   "source": [
    "datamodule = LeafDiseaseDataModule(root=\"data/leaf_disease\", batch_size=16, random_state=1337, num_workers=4)"
   ],
   "metadata": {
    "collapsed": false
   }
  },
  {
   "cell_type": "code",
   "execution_count": null,
   "outputs": [],
   "source": [
    "datamodule.prepare_data()"
   ],
   "metadata": {
    "collapsed": false
   }
  },
  {
   "cell_type": "markdown",
   "source": [
    "### Model\n",
    "\n",
    "The model is initialized using partials because the main pipeline has all of this handled by Hydra."
   ],
   "metadata": {
    "collapsed": false
   }
  },
  {
   "cell_type": "code",
   "execution_count": null,
   "outputs": [],
   "source": [
    "model_instance = get_unet(backbone_name=\"convnext_tiny\", num_classes=2)\n",
    "model = PcsModel(model_instance=model_instance,\n",
    "                 optimizer_partial=partial(AdaBelief, weight_decay=0.000001, lr=0.0001),\n",
    "                 scheduler_partial=partial(CosineLRScheduler, t_initial=10,\n",
    "                                                                    lr_min=0.0000003,\n",
    "                                                                    cycle_decay=0.8,\n",
    "                                                                    warmup_t=5,\n",
    "                                                                    warmup_lr_init=0.00001))\n"
   ],
   "metadata": {
    "collapsed": false
   }
  },
  {
   "cell_type": "markdown",
   "source": [
    "### Training\n",
    "\n",
    "Once again, the training loop is all being done by Lightning."
   ],
   "metadata": {
    "collapsed": false
   }
  },
  {
   "cell_type": "code",
   "execution_count": null,
   "outputs": [],
   "source": [
    "trainer = Trainer(accelerator=\"gpu\", devices=1, max_epochs=100, callbacks=[EarlyStopping(monitor=\"val_loss\", patience=3, verbose=True, mode=\"min\"),\n",
    "                                                                            LearningRateMonitor(logging_interval=\"epoch\")],\n",
    "                  precision=16, accumulate_grad_batches=4, auto_scale_batch_size=None, auto_lr_find=False)"
   ],
   "metadata": {
    "collapsed": false
   }
  },
  {
   "cell_type": "code",
   "execution_count": null,
   "outputs": [],
   "source": [
    "trainer.fit(model, datamodule=datamodule)"
   ],
   "metadata": {
    "collapsed": false
   }
  },
  {
   "cell_type": "code",
   "execution_count": null,
   "outputs": [],
   "source": [
    "datamodule.train_dataset[0][\"mask\"].shape"
   ],
   "metadata": {
    "collapsed": false
   }
  },
  {
   "cell_type": "code",
   "execution_count": null,
   "outputs": [],
   "source": [],
   "metadata": {
    "collapsed": false
   }
  }
 ],
 "metadata": {
  "kernelspec": {
   "display_name": "Python 3",
   "language": "python",
   "name": "python3"
  },
  "language_info": {
   "codemirror_mode": {
    "name": "ipython",
    "version": 2
   },
   "file_extension": ".py",
   "mimetype": "text/x-python",
   "name": "python",
   "nbconvert_exporter": "python",
   "pygments_lexer": "ipython2",
   "version": "2.7.6"
  }
 },
 "nbformat": 4,
 "nbformat_minor": 0
}
