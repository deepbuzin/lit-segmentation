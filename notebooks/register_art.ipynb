{
 "cells": [
  {
   "cell_type": "code",
   "execution_count": null,
   "id": "427cfd90",
   "metadata": {},
   "outputs": [],
   "source": [
    "import wandb"
   ]
  },
  {
   "cell_type": "code",
   "execution_count": null,
   "id": "716a5b1b8cc3e152",
   "metadata": {
    "ExecuteTime": {
     "end_time": "2023-09-10T07:47:37.204155Z",
     "start_time": "2023-09-10T07:46:59.299Z"
    }
   },
   "outputs": [],
   "source": [
    "run = wandb.init(entity=\"andreybuzin\", project=\"plants_arts\", job_type=\"upload-dataset\")"
   ]
  },
  {
   "cell_type": "code",
   "execution_count": null,
   "id": "249f15d7f2df2548",
   "metadata": {
    "ExecuteTime": {
     "end_time": "2023-09-10T07:47:43.036581Z",
     "start_time": "2023-09-10T07:47:43.030373Z"
    }
   },
   "outputs": [],
   "source": [
    "artifact = wandb.Artifact(name=\"leaf_disease_val\", type=\"dataset\")"
   ]
  },
  {
   "cell_type": "code",
   "execution_count": null,
   "id": "ade8c76cc33a5c47",
   "metadata": {
    "ExecuteTime": {
     "end_time": "2023-09-10T07:47:49.977530Z",
     "start_time": "2023-09-10T07:47:49.542756Z"
    }
   },
   "outputs": [],
   "source": [
    "artifact.add_dir(local_path=\"../../leaf_disease_val/images\", name=\"images\")\n",
    "artifact.add_dir(local_path=\"../../leaf_disease_val/masks\", name=\"masks\")"
   ]
  },
  {
   "cell_type": "code",
   "execution_count": null,
   "id": "1c3ca5fccaf75487",
   "metadata": {
    "ExecuteTime": {
     "end_time": "2023-09-10T07:47:58.213381Z",
     "start_time": "2023-09-10T07:47:57.710225Z"
    }
   },
   "outputs": [],
   "source": [
    "run.log_artifact(artifact)"
   ]
  },
  {
   "cell_type": "code",
   "execution_count": null,
   "id": "b42b16ecf7b937bf",
   "metadata": {
    "ExecuteTime": {
     "end_time": "2023-09-10T07:49:22.641006Z",
     "start_time": "2023-09-10T07:49:10.026804Z"
    }
   },
   "outputs": [],
   "source": [
    "wandb.finish()"
   ]
  },
  {
   "cell_type": "code",
   "execution_count": null,
   "id": "4ad5234a",
   "metadata": {},
   "outputs": [],
   "source": []
  }
 ],
 "metadata": {
  "kernelspec": {
   "display_name": "Python 3 (ipykernel)",
   "language": "python",
   "name": "python3"
  },
  "language_info": {
   "codemirror_mode": {
    "name": "ipython",
    "version": 3
   },
   "file_extension": ".py",
   "mimetype": "text/x-python",
   "name": "python",
   "nbconvert_exporter": "python",
   "pygments_lexer": "ipython3",
   "version": "3.10.0"
  }
 },
 "nbformat": 4,
 "nbformat_minor": 5
}
