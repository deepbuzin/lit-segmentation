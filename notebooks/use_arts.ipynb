{
 "cells": [
  {
   "cell_type": "code",
   "execution_count": null,
   "id": "initial_id",
   "metadata": {},
   "outputs": [],
   "source": [
    "import wandb"
   ]
  },
  {
   "cell_type": "code",
   "execution_count": null,
   "id": "c7ea0706",
   "metadata": {},
   "outputs": [],
   "source": [
    "run = wandb.init(entity=\"andreybuzin\", project=\"plants_arts\", job_type=\"donwload-dataset\")"
   ]
  },
  {
   "cell_type": "code",
   "execution_count": null,
   "id": "15e3db1d",
   "metadata": {},
   "outputs": [],
   "source": [
    "artifact = run.use_artifact('andreybuzin/plants_arts/leaf_disease:v0', type='dataset')"
   ]
  },
  {
   "cell_type": "code",
   "execution_count": null,
   "id": "d8b35f25",
   "metadata": {},
   "outputs": [],
   "source": [
    "artifact_dir = artifact.download()"
   ]
  },
  {
   "cell_type": "code",
   "execution_count": null,
   "id": "fbeacc58",
   "metadata": {},
   "outputs": [],
   "source": [
    "artifact_dir"
   ]
  },
  {
   "cell_type": "code",
   "execution_count": null,
   "id": "076d722a",
   "metadata": {},
   "outputs": [],
   "source": [
    "wandb.finish()"
   ]
  },
  {
   "cell_type": "code",
   "execution_count": null,
   "id": "090f7a80",
   "metadata": {},
   "outputs": [],
   "source": []
  }
 ],
 "metadata": {
  "kernelspec": {
   "display_name": "Python 3 (ipykernel)",
   "language": "python",
   "name": "python3"
  },
  "language_info": {
   "codemirror_mode": {
    "name": "ipython",
    "version": 3
   },
   "file_extension": ".py",
   "mimetype": "text/x-python",
   "name": "python",
   "nbconvert_exporter": "python",
   "pygments_lexer": "ipython3",
   "version": "3.10.0"
  }
 },
 "nbformat": 4,
 "nbformat_minor": 5
}
